{
  "cells": [
    {
      "cell_type": "code",
      "execution_count": null,
      "metadata": {
        "id": "9xPdlghpzCBQ"
      },
      "outputs": [],
      "source": [
        "import numpy as np\n",
        "import pandas as pd\n",
        "import matplotlib.pyplot as plt\n",
        "import seaborn as sns\n",
        "from sklearn.feature_extraction.text import CountVectorizer\n",
        "count=CountVectorizer()"
      ],
      "id": "9xPdlghpzCBQ"
    },
    {
      "cell_type": "code",
      "execution_count": null,
      "metadata": {
        "id": "mjnyG7LIzKNC"
      },
      "outputs": [],
      "source": [
        "from google.colab import drive\n",
        "drive.mount('/gdrive')"
      ],
      "id": "mjnyG7LIzKNC"
    },
    {
      "cell_type": "code",
      "execution_count": null,
      "metadata": {
        "id": "Uc6qX_ZwzCBU"
      },
      "outputs": [],
      "source": [
        "data = pd.read_csv(\"/gdrive/My Drive/Esha/Project/Suicide_Detection.csv\")\n",
        "data\n"
      ],
      "id": "Uc6qX_ZwzCBU"
    },
    {
      "cell_type": "code",
      "execution_count": null,
      "metadata": {
        "id": "FYnZ1zIHzCBY"
      },
      "outputs": [],
      "source": [
        "data[\"class\"]"
      ],
      "id": "FYnZ1zIHzCBY"
    },
    {
      "cell_type": "code",
      "source": [
        "type(data[\"Unnamed: 0\"][3])"
      ],
      "metadata": {
        "id": "iF5syQCRcjoF"
      },
      "id": "iF5syQCRcjoF",
      "execution_count": null,
      "outputs": []
    },
    {
      "cell_type": "code",
      "execution_count": null,
      "metadata": {
        "id": "RDtQu6jfzCBa"
      },
      "outputs": [],
      "source": [
        "text = data['text']\n",
        "label = data['class']"
      ],
      "id": "RDtQu6jfzCBa"
    },
    {
      "cell_type": "code",
      "execution_count": null,
      "metadata": {
        "id": "X88nrYIBzCBb"
      },
      "outputs": [],
      "source": [
        "text[0]"
      ],
      "id": "X88nrYIBzCBb"
    },
    {
      "cell_type": "code",
      "execution_count": null,
      "metadata": {
        "id": "G6p80laPzCBd"
      },
      "outputs": [],
      "source": [
        "classes_list = [\"non-suicide\", \"suicide\"]\n",
        "label_index = data['class'].apply(classes_list.index)\n",
        "label = np.asarray(label_index)"
      ],
      "id": "G6p80laPzCBd"
    },
    {
      "cell_type": "code",
      "execution_count": null,
      "metadata": {
        "id": "XSwwPYZMzCBe"
      },
      "outputs": [],
      "source": [
        "data['label'] = label"
      ],
      "id": "XSwwPYZMzCBe"
    },
    {
      "cell_type": "code",
      "execution_count": null,
      "metadata": {
        "id": "aYTzfqaLzzuU"
      },
      "outputs": [],
      "source": [
        "data"
      ],
      "id": "aYTzfqaLzzuU"
    },
    {
      "cell_type": "code",
      "execution_count": null,
      "metadata": {
        "id": "dTWN7m0iz5St"
      },
      "outputs": [],
      "source": [
        "data.drop(\"class\", axis = 1, inplace  =True)\n",
        "data"
      ],
      "id": "dTWN7m0iz5St"
    },
    {
      "cell_type": "code",
      "execution_count": null,
      "metadata": {
        "id": "Ini9TlaUz5WZ"
      },
      "outputs": [],
      "source": [
        "data[\"label\"].value_counts()"
      ],
      "id": "Ini9TlaUz5WZ"
    },
    {
      "cell_type": "code",
      "execution_count": null,
      "metadata": {
        "id": "m82iY__KzCBe"
      },
      "outputs": [],
      "source": [
        "fig=plt.figure(figsize=(5,5))\n",
        "colors=[\"skyblue\",'pink']\n",
        "pos=data[data['label']==1]\n",
        "neg=data[data['label']==0]\n",
        "ck=[pos['label'].count(),neg['label'].count()]\n",
        "legpie=plt.pie(ck,labels=[\"suicide\",\"non-suicide\"],\n",
        "                 autopct ='%1.1f%%', \n",
        "                 shadow = True,\n",
        "                 colors = colors,\n",
        "                 startangle = 45,\n",
        "                 explode=(0, 0.1))"
      ],
      "id": "m82iY__KzCBe"
    },
    {
      "cell_type": "code",
      "execution_count": null,
      "metadata": {
        "id": "EOooLg8FzCBh"
      },
      "outputs": [],
      "source": [
        "import re\n",
        "def preprocessor(text):\n",
        "             text=re.sub('<[^>]*>','',text)\n",
        "             emojis=re.findall('(?::|;|=)(?:-)?(?:\\)|\\(|D|P)',text)\n",
        "             text=re.sub('[\\W]+',' ',text.lower()) +\\\n",
        "                ' '.join(emojis).replace('-','')\n",
        "             return text   \n",
        "data['text']=data['text'].apply(preprocessor)"
      ],
      "id": "EOooLg8FzCBh"
    },
    {
      "cell_type": "code",
      "execution_count": null,
      "metadata": {
        "id": "rAuW7uigzCBi"
      },
      "outputs": [],
      "source": [
        "data"
      ],
      "id": "rAuW7uigzCBi"
    },
    {
      "cell_type": "code",
      "source": [
        "data = data[:10000]"
      ],
      "metadata": {
        "id": "QopuMpD3aFbz"
      },
      "id": "QopuMpD3aFbz",
      "execution_count": null,
      "outputs": []
    },
    {
      "cell_type": "code",
      "source": [
        "data[\"label\"].value_counts()"
      ],
      "metadata": {
        "id": "uGtC3tgBaKWq"
      },
      "id": "uGtC3tgBaKWq",
      "execution_count": null,
      "outputs": []
    },
    {
      "cell_type": "code",
      "execution_count": null,
      "metadata": {
        "id": "RHGGNpn3zCBj"
      },
      "outputs": [],
      "source": [
        "import warnings\n",
        "warnings.filterwarnings('ignore')"
      ],
      "id": "RHGGNpn3zCBj"
    },
    {
      "cell_type": "code",
      "execution_count": null,
      "metadata": {
        "id": "Uv14hW6PzCBl"
      },
      "outputs": [],
      "source": [
        "# for i in range(len(data['text'])):\n",
        "#     data['text'][i]  =data['text'][i].lower()"
      ],
      "id": "Uv14hW6PzCBl"
    },
    {
      "cell_type": "code",
      "source": [
        "data"
      ],
      "metadata": {
        "id": "KRmOL8Hqwrt2"
      },
      "id": "KRmOL8Hqwrt2",
      "execution_count": null,
      "outputs": []
    },
    {
      "cell_type": "code",
      "execution_count": null,
      "metadata": {
        "id": "jiUeTiEqzCBm"
      },
      "outputs": [],
      "source": [
        "from nltk.stem.porter import PorterStemmer\n",
        "porter=PorterStemmer()\n",
        "def tokenizer_porter(text):\n",
        "    return [porter.stem(word) for word in text.split()]"
      ],
      "id": "jiUeTiEqzCBm"
    },
    {
      "cell_type": "code",
      "execution_count": null,
      "metadata": {
        "id": "pTYCqLxzzCBn"
      },
      "outputs": [],
      "source": [
        "for i in range(len(data['text'])):\n",
        "    data['text'][i]  =  np.array(tokenizer_porter(data['text'][i]))"
      ],
      "id": "pTYCqLxzzCBn"
    },
    {
      "cell_type": "code",
      "source": [
        "data"
      ],
      "metadata": {
        "id": "EyAUehPpsN58"
      },
      "id": "EyAUehPpsN58",
      "execution_count": null,
      "outputs": []
    },
    {
      "cell_type": "code",
      "source": [
        "data[\"text\"][0]"
      ],
      "metadata": {
        "id": "qNPTF9X6sVDR"
      },
      "id": "qNPTF9X6sVDR",
      "execution_count": null,
      "outputs": []
    },
    {
      "cell_type": "code",
      "source": [
        "print(data[\"text\"][0])"
      ],
      "metadata": {
        "id": "VbcFa-jctOla"
      },
      "id": "VbcFa-jctOla",
      "execution_count": null,
      "outputs": []
    },
    {
      "cell_type": "code",
      "source": [
        "#data.to_csv(\"filtered_data.csv\")"
      ],
      "metadata": {
        "id": "PjKBkG3SqO8l"
      },
      "id": "PjKBkG3SqO8l",
      "execution_count": null,
      "outputs": []
    },
    {
      "cell_type": "code",
      "source": [
        "#data = pd.read_csv(\"/gdrive/filtered_data.csv\")"
      ],
      "metadata": {
        "id": "3JfecV9Uq8Yh"
      },
      "id": "3JfecV9Uq8Yh",
      "execution_count": null,
      "outputs": []
    },
    {
      "cell_type": "code",
      "execution_count": null,
      "metadata": {
        "id": "w_CBEAZYzCBp"
      },
      "outputs": [],
      "source": [
        "import nltk\n",
        "nltk.download('stopwords')"
      ],
      "id": "w_CBEAZYzCBp"
    },
    {
      "cell_type": "code",
      "execution_count": null,
      "metadata": {
        "id": "PZr0mjSAzCBr"
      },
      "outputs": [],
      "source": [
        "from nltk.corpus import stopwords\n",
        "stops=stopwords.words('english')\n",
        "nltk.download('stopwords')"
      ],
      "id": "PZr0mjSAzCBr"
    },
    {
      "cell_type": "code",
      "execution_count": null,
      "metadata": {
        "id": "M1mUSDlezCBs"
      },
      "outputs": [],
      "source": [
        "def remove_stopwords(lower_tokens):\n",
        "  filtered_words=[]\n",
        "  for s in lower_tokens:\n",
        "    temp=[]\n",
        "    for token in s:\n",
        "      if token not in stops:\n",
        "        temp.append(token)\n",
        "    filtered_words.append(temp)\n",
        "  return filtered_words\n"
      ],
      "id": "M1mUSDlezCBs"
    },
    {
      "cell_type": "code",
      "execution_count": null,
      "metadata": {
        "id": "Ws8wzFzXzCBs"
      },
      "outputs": [],
      "source": [
        "t_list = remove_stopwords(data['text'])\n",
        "data['text'] = t_list"
      ],
      "id": "Ws8wzFzXzCBs"
    },
    {
      "cell_type": "code",
      "execution_count": null,
      "metadata": {
        "id": "nJ8BOEtyzCBt"
      },
      "outputs": [],
      "source": [
        "for i in range(len(data['text'])):\n",
        "    data['text'][i]  =  \" \".join(data['text'][i])"
      ],
      "id": "nJ8BOEtyzCBt"
    },
    {
      "cell_type": "code",
      "source": [
        "data"
      ],
      "metadata": {
        "id": "_pbjRc8b-RJo"
      },
      "id": "_pbjRc8b-RJo",
      "execution_count": null,
      "outputs": []
    },
    {
      "cell_type": "code",
      "source": [
        "data[\"text\"][0]"
      ],
      "metadata": {
        "id": "OtBpmr1lPj9K"
      },
      "id": "OtBpmr1lPj9K",
      "execution_count": null,
      "outputs": []
    },
    {
      "cell_type": "code",
      "source": [
        "#data.to_csv(\"filtered1_data.csv\")\n",
        "#data = pd.read_csv(\"filtered1_data.csv\")"
      ],
      "metadata": {
        "id": "mCJMenAy-RUP"
      },
      "id": "mCJMenAy-RUP",
      "execution_count": null,
      "outputs": []
    },
    {
      "cell_type": "code",
      "execution_count": null,
      "metadata": {
        "id": "PD8qUvIxzCBt"
      },
      "outputs": [],
      "source": [
        "from sklearn.feature_extraction.text import TfidfVectorizer\n",
        "vectorizer = TfidfVectorizer()\n",
        "y =data['label'].values\n",
        "tfidf = vectorizer.fit(data['text'])\n",
        "x = vectorizer.transform(data[\"text\"])"
      ],
      "id": "PD8qUvIxzCBt"
    },
    {
      "cell_type": "code",
      "source": [
        "tfidf.vocabulary_"
      ],
      "metadata": {
        "id": "Qrs287xpgVPa"
      },
      "id": "Qrs287xpgVPa",
      "execution_count": null,
      "outputs": []
    },
    {
      "cell_type": "code",
      "source": [
        "import pickle\n",
        "\n",
        "pickle.dump(tfidf, open(\"tfidf.pickle\", \"wb\"))\n",
        "pickle.dump(x, open(\"train_comment_features.pickle\", \"wb\"))\n",
        "# pickle.dump(test_comment_features, open(\"test_comment_features.pickle\", \"wb\"))"
      ],
      "metadata": {
        "id": "WuBDsxsRgxVi"
      },
      "id": "WuBDsxsRgxVi",
      "execution_count": null,
      "outputs": []
    },
    {
      "cell_type": "code",
      "execution_count": null,
      "metadata": {
        "id": "HlNrI54RzCBu"
      },
      "outputs": [],
      "source": [
        ""
      ],
      "id": "HlNrI54RzCBu"
    },
    {
      "cell_type": "code",
      "execution_count": null,
      "metadata": {
        "id": "YAhZ6U2jzCBu"
      },
      "outputs": [],
      "source": [
        "from sklearn.model_selection import train_test_split\n",
        "X_train,X_test,y_train,y_test=train_test_split(x,y,random_state=1,test_size=0.3,shuffle=False)"
      ],
      "id": "YAhZ6U2jzCBu"
    },
    {
      "cell_type": "code",
      "source": [
        "X_train"
      ],
      "metadata": {
        "id": "y04l-yU5Q204"
      },
      "id": "y04l-yU5Q204",
      "execution_count": null,
      "outputs": []
    },
    {
      "cell_type": "code",
      "source": [
        "X_test"
      ],
      "metadata": {
        "id": "46UFuKc0Q29_"
      },
      "id": "46UFuKc0Q29_",
      "execution_count": null,
      "outputs": []
    },
    {
      "cell_type": "code",
      "execution_count": null,
      "metadata": {
        "id": "RZZF4B1AzCBu"
      },
      "outputs": [],
      "source": [
        "from sklearn.linear_model import LogisticRegressionCV\n",
        "clf=LogisticRegressionCV(cv=6,scoring='accuracy',random_state=0,n_jobs=-1,verbose=3,max_iter=500)\n",
        "classifier = clf.fit(X_train,y_train)\n",
        "y_pred = classifier.predict(X_test)\n",
        "\n",
        "from sklearn import metrics\n",
        "print(\"Accuracy:\",metrics.accuracy_score(y_test, y_pred))"
      ],
      "id": "RZZF4B1AzCBu"
    },
    {
      "cell_type": "code",
      "execution_count": null,
      "metadata": {
        "id": "82Mp72MlzCBv"
      },
      "outputs": [],
      "source": [
        "cm=metrics.confusion_matrix(y_test,y_pred)\n",
        "print(cm)"
      ],
      "id": "82Mp72MlzCBv"
    },
    {
      "cell_type": "code",
      "source": [
        "import pickle\n",
        "pickle.dump(classifier, open(\"lr_model.sav\", 'wb'))\n",
        " \n",
        "# some time later...\n",
        " \n",
        "# load the model from disk\n",
        "import pickle\n",
        "loaded_model = pickle.load(open(\"lr_model.sav\", 'rb'))\n",
        "result = loaded_model.score(X_test, y_test)"
      ],
      "metadata": {
        "id": "g3yohq31N1bh"
      },
      "id": "g3yohq31N1bh",
      "execution_count": null,
      "outputs": []
    },
    {
      "cell_type": "code",
      "source": [
        "result"
      ],
      "metadata": {
        "id": "5JsuCiceOfqV"
      },
      "id": "5JsuCiceOfqV",
      "execution_count": null,
      "outputs": []
    },
    {
      "cell_type": "markdown",
      "source": [
        "# Deep learning model"
      ],
      "metadata": {
        "id": "al6PlSCE-kEp"
      },
      "id": "al6PlSCE-kEp"
    },
    {
      "cell_type": "code",
      "source": [
        "x.shape"
      ],
      "metadata": {
        "id": "2gayPjRN_CQ8"
      },
      "id": "2gayPjRN_CQ8",
      "execution_count": null,
      "outputs": []
    },
    {
      "cell_type": "code",
      "source": [
        "from keras.models import Sequential\n",
        "from keras.layers import Dense, LSTM, Dropout\n",
        "\n",
        "model = Sequential()\n",
        "#model.add(LSTM(128,  input_shape=(20307, 20307),return_sequences=True))\n",
        "model.add(Dense(3, activation='relu', input_shape=(20307,)))\n",
        "#model.add(Dropout(.4))\n",
        "#model.add(Dense(2, activation='relu'))\n",
        "model.add(Dense(1, activation='sigmoid'))\n",
        "model.summary()\n",
        "model.compile(loss='binary_crossentropy', optimizer='adam')"
      ],
      "metadata": {
        "id": "Pg4RfqkveRi2"
      },
      "id": "Pg4RfqkveRi2",
      "execution_count": null,
      "outputs": []
    },
    {
      "cell_type": "code",
      "source": [
        "model.fit(X_train.toarray(), y_train, validation_split =.2, epochs=30, verbose=1)"
      ],
      "metadata": {
        "id": "2qJnlEmU-ZNl"
      },
      "id": "2qJnlEmU-ZNl",
      "execution_count": null,
      "outputs": []
    },
    {
      "cell_type": "code",
      "source": [
        "y_pred = model.predict(X_test.toarray())"
      ],
      "metadata": {
        "id": "OndF5FGY-ZQ3"
      },
      "id": "OndF5FGY-ZQ3",
      "execution_count": null,
      "outputs": []
    },
    {
      "cell_type": "code",
      "source": [
        "y_pred"
      ],
      "metadata": {
        "id": "vsPnHTEyX3wn"
      },
      "id": "vsPnHTEyX3wn",
      "execution_count": null,
      "outputs": []
    },
    {
      "cell_type": "code",
      "source": [
        "y_pred = (y_pred>.5)*1"
      ],
      "metadata": {
        "id": "FsPYwtzF-ZTq"
      },
      "id": "FsPYwtzF-ZTq",
      "execution_count": null,
      "outputs": []
    },
    {
      "cell_type": "code",
      "source": [
        "cm=metrics.confusion_matrix(y_test,y_pred)\n",
        "print(cm)"
      ],
      "metadata": {
        "id": "8D7_b23H-ZXc"
      },
      "id": "8D7_b23H-ZXc",
      "execution_count": null,
      "outputs": []
    },
    {
      "cell_type": "code",
      "source": [
        "(cm[1, 1] + cm[0, 0])/sum(sum(cm))"
      ],
      "metadata": {
        "id": "bb3BLhp6eRvl"
      },
      "id": "bb3BLhp6eRvl",
      "execution_count": null,
      "outputs": []
    },
    {
      "cell_type": "code",
      "source": [
        ""
      ],
      "metadata": {
        "id": "RLmUbFLfeRyT"
      },
      "id": "RLmUbFLfeRyT",
      "execution_count": null,
      "outputs": []
    },
    {
      "cell_type": "code",
      "source": [
        "# "
      ],
      "metadata": {
        "id": "4aVX0kdqeR0B"
      },
      "id": "4aVX0kdqeR0B",
      "execution_count": null,
      "outputs": []
    },
    {
      "cell_type": "markdown",
      "source": [
        "# deployement part"
      ],
      "metadata": {
        "id": "P39GrWnReUZZ"
      },
      "id": "P39GrWnReUZZ"
    },
    {
      "cell_type": "code",
      "source": [
        "text = input(\"Enter a text to check if it is suicidal: \")\n",
        "\n",
        "from nltk.stem.porter import PorterStemmer\n",
        "porter=PorterStemmer()\n",
        "def tokenizer_porter(text):\n",
        "    return [porter.stem(word) for word in text.split()]\n",
        "\n",
        "text = np.array(tokenizer_porter(text))\n",
        "\n",
        "import nltk\n",
        "nltk.download('stopwords')\n",
        "from nltk.corpus import stopwords\n",
        "stops=stopwords.words('english')\n",
        "nltk.download('stopwords')\n",
        "\n",
        "\n",
        "def remove_stopwords(lower_tokens):\n",
        "  filtered_words=[]\n",
        "  for s in lower_tokens:\n",
        "    temp=[]\n",
        "    for token in s:\n",
        "      if token not in stops:\n",
        "        temp.append(token)\n",
        "    filtered_words.append(temp)\n",
        "  return filtered_words\n",
        "\n",
        "\n",
        "f_text = np.array(remove_stopwords([text])[0])\n",
        "\n",
        "\n",
        "\n",
        "\n",
        "f_text = \" \".join(f_text)\n",
        "\n",
        "\n",
        "import pickle\n",
        "\n",
        "tfidf_vectorizer = pickle.load(open(\"tfidf.pickle\", \"rb\"))\n",
        "ss2 = tfidf_vectorizer.transform([f_text])\n",
        "\n",
        "# load the model from disk\n",
        "import pickle\n",
        "loaded_model = pickle.load(open(\"lr_model.sav\", 'rb'))\n",
        "result = loaded_model.predict(ss2)"
      ],
      "metadata": {
        "id": "PK3dFNO9WMpr"
      },
      "id": "PK3dFNO9WMpr",
      "execution_count": null,
      "outputs": []
    },
    {
      "cell_type": "code",
      "source": [
        "result[0]"
      ],
      "metadata": {
        "id": "wl3qHC_oWNLV"
      },
      "id": "wl3qHC_oWNLV",
      "execution_count": null,
      "outputs": []
    },
    {
      "cell_type": "code",
      "source": [
        ""
      ],
      "metadata": {
        "id": "HEWVZz0gWNRe"
      },
      "id": "HEWVZz0gWNRe",
      "execution_count": null,
      "outputs": []
    },
    {
      "cell_type": "code",
      "source": [
        ""
      ],
      "metadata": {
        "id": "8_xu6g_eiXrf"
      },
      "id": "8_xu6g_eiXrf",
      "execution_count": null,
      "outputs": []
    },
    {
      "cell_type": "code",
      "source": [
        ""
      ],
      "metadata": {
        "id": "ESPukFn4iXoY"
      },
      "id": "ESPukFn4iXoY",
      "execution_count": null,
      "outputs": []
    },
    {
      "cell_type": "code",
      "source": [
        ""
      ],
      "metadata": {
        "id": "WIiAygBciXlc"
      },
      "id": "WIiAygBciXlc",
      "execution_count": null,
      "outputs": []
    },
    {
      "cell_type": "code",
      "source": [
        ""
      ],
      "metadata": {
        "id": "ZqyT-C6RiXiT"
      },
      "id": "ZqyT-C6RiXiT",
      "execution_count": null,
      "outputs": []
    },
    {
      "cell_type": "code",
      "source": [
        ""
      ],
      "metadata": {
        "id": "Kxrsj6B2iXd9"
      },
      "id": "Kxrsj6B2iXd9",
      "execution_count": null,
      "outputs": []
    },
    {
      "cell_type": "code",
      "source": [
        ""
      ],
      "metadata": {
        "id": "7MiNcuUWiXbF"
      },
      "id": "7MiNcuUWiXbF",
      "execution_count": null,
      "outputs": []
    },
    {
      "cell_type": "code",
      "source": [
        ""
      ],
      "metadata": {
        "id": "SqgmbRj9iXYJ"
      },
      "id": "SqgmbRj9iXYJ",
      "execution_count": null,
      "outputs": []
    },
    {
      "cell_type": "code",
      "source": [
        ""
      ],
      "metadata": {
        "id": "cK-1u2D6iXVI"
      },
      "id": "cK-1u2D6iXVI",
      "execution_count": null,
      "outputs": []
    },
    {
      "cell_type": "code",
      "source": [
        ""
      ],
      "metadata": {
        "id": "WRK-EQY7iXSK"
      },
      "id": "WRK-EQY7iXSK",
      "execution_count": null,
      "outputs": []
    },
    {
      "cell_type": "code",
      "source": [
        ""
      ],
      "metadata": {
        "id": "CgkyyVM6iXKF"
      },
      "id": "CgkyyVM6iXKF",
      "execution_count": null,
      "outputs": []
    },
    {
      "cell_type": "code",
      "source": [
        ""
      ],
      "metadata": {
        "id": "Zla1tyWoiXHx"
      },
      "id": "Zla1tyWoiXHx",
      "execution_count": null,
      "outputs": []
    },
    {
      "cell_type": "code",
      "source": [
        "tfidf"
      ],
      "metadata": {
        "id": "HmEfQpzNPErm"
      },
      "id": "HmEfQpzNPErm",
      "execution_count": null,
      "outputs": []
    },
    {
      "cell_type": "code",
      "source": [
        ""
      ],
      "metadata": {
        "id": "adC7ezDEPEt9"
      },
      "id": "adC7ezDEPEt9",
      "execution_count": null,
      "outputs": []
    },
    {
      "cell_type": "code",
      "source": [
        "corpus = np.array([])"
      ],
      "metadata": {
        "id": "blYb8QD9mrne"
      },
      "id": "blYb8QD9mrne",
      "execution_count": null,
      "outputs": []
    },
    {
      "cell_type": "code",
      "source": [
        ""
      ],
      "metadata": {
        "id": "bR1CUC-9Xp_0"
      },
      "id": "bR1CUC-9Xp_0",
      "execution_count": null,
      "outputs": []
    },
    {
      "cell_type": "code",
      "source": [
        "X_train.shape"
      ],
      "metadata": {
        "id": "2DSWAnC_bUvp"
      },
      "id": "2DSWAnC_bUvp",
      "execution_count": null,
      "outputs": []
    },
    {
      "cell_type": "code",
      "source": [
        ""
      ],
      "metadata": {
        "id": "O9qfLOeL9cse"
      },
      "id": "O9qfLOeL9cse",
      "execution_count": null,
      "outputs": []
    },
    {
      "cell_type": "code",
      "source": [
        ""
      ],
      "metadata": {
        "id": "g5ANBtkdbuSy"
      },
      "id": "g5ANBtkdbuSy",
      "execution_count": null,
      "outputs": []
    },
    {
      "cell_type": "code",
      "execution_count": null,
      "metadata": {
        "id": "u4qdcJk8zCBw"
      },
      "outputs": [],
      "source": [
        "# create the model\n",
        "model = Sequential()\n",
        "#model.add(Embedding(top_words, 32, input_length=max_words))\n",
        "#model.add(Conv1D(32, 3, padding='same', activation='relu'))\n",
        "#model.add(MaxPooling1D())\n",
        "model.add(LSTM(64))\n",
        "#model.add(Flatten())\n",
        "model.add(Dense(128, activation='relu'))\n",
        "model.add(Dense(1, activation='sigmoid'))\n",
        "model.compile(loss='binary_crossentropy', optimizer='adam', metrics=['accuracy'])\n",
        "model.summary()"
      ],
      "id": "u4qdcJk8zCBw"
    },
    {
      "cell_type": "code",
      "source": [
        ""
      ],
      "metadata": {
        "id": "j5eWJBDA8jPA"
      },
      "id": "j5eWJBDA8jPA",
      "execution_count": null,
      "outputs": []
    }
  ],
  "metadata": {
    "colab": {
      "name": "Suicidal Prediction.ipynb",
      "provenance": [],
      "private_outputs": true,
      "collapsed_sections": []
    },
    "kernelspec": {
      "display_name": "Python 3",
      "language": "python",
      "name": "python3"
    },
    "language_info": {
      "codemirror_mode": {
        "name": "ipython",
        "version": 3
      },
      "file_extension": ".py",
      "mimetype": "text/x-python",
      "name": "python",
      "nbconvert_exporter": "python",
      "pygments_lexer": "ipython3",
      "version": "3.6.8"
    },
    "accelerator": "TPU"
  },
  "nbformat": 4,
  "nbformat_minor": 5
}